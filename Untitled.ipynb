{
 "cells": [
  {
   "cell_type": "code",
   "execution_count": 1,
   "id": "7042dac2-e5ac-4bc7-a532-56d9f1abc885",
   "metadata": {},
   "outputs": [],
   "source": [
    "import pandas as pd\n",
    "import os\n",
    "import matplotlib as plt\n",
    "%matplotlib inline"
   ]
  },
  {
   "cell_type": "code",
   "execution_count": 98,
   "id": "c925d8fe-6a5d-43b4-af42-094426ef8d0d",
   "metadata": {},
   "outputs": [],
   "source": [
    "files = os.listdir('single_json/')\n",
    "frames = []\n",
    "for file in files:\n",
    "    frames.append(pd.read_json('single_json/' + file))\n",
    "    frames[-1]['dataTakenAt'] = pd.to_datetime(file[:-5].replace('_',' '), utc='CEST')"
   ]
  },
  {
   "cell_type": "code",
   "execution_count": 99,
   "id": "bfdd9f21-42bd-4a42-bc1e-dd1252bb6e99",
   "metadata": {},
   "outputs": [],
   "source": [
    "data = pd.concat(frames)\n",
    "data.publishedAt = data.publishedAt.map(lambda date : pd.to_datetime(date))\n",
    "ids = list(data.id.unique())\n",
    "grouped_by_id = data.groupby('id')"
   ]
  },
  {
   "cell_type": "code",
   "execution_count": 150,
   "id": "c1923927-2190-4daf-8c73-08abc12f6c30",
   "metadata": {},
   "outputs": [],
   "source": [
    "videos = []\n",
    "for id in ids:\n",
    "    vid = grouped_by_id.get_group(id).sort_values(by='dataTakenAt')\n",
    "    df = pd.DataFrame(vid.iloc[0]).transpose()\n",
    "    df['maxRank'] = vid['rank'].min()\n",
    "    df['minRank'] = vid['rank'].max()\n",
    "    df['meanRank'] = vid['rank'].mean()\n",
    "    \n",
    "    df['enteredTrends'] = vid.dataTakenAt.iloc[0]\n",
    "    df['leftTrends'] = vid.dataTakenAt.iloc[-1]\n",
    "    df['timeInTrends'] = df.leftTrends - df.enteredTrends\n",
    "    df['timeUntilTrending'] = df['enteredTrends'] - vid.publishedAt.iloc[0]\n",
    "    \n",
    "    df['maxViews'] = vid['viewCount'].max()\n",
    "    df['minViews'] = vid['viewCount'].min()\n",
    "    df['meanViews'] = round(vid['viewCount'].mean())\n",
    "    \n",
    "    df['maxLikes'] = vid['likeCount'].max()\n",
    "    df['minLikes'] = vid['likeCount'].min()\n",
    "    df['meanLikes'] = round(vid['likeCount'].mean())\n",
    "    \n",
    "    df['maxDislikes'] = vid['dislikeCount'].max()\n",
    "    df['minDislikes'] = vid['dislikeCount'].min()\n",
    "    df['meanDislikes'] = round(vid['dislikeCount'].mean())\n",
    "    \n",
    "    df['maxComments'] = vid['commentCount'].max()\n",
    "    df['minComments'] = vid['commentCount'].min()\n",
    "    df['meanComments'] = round(vid['commentCount'].mean())\n",
    "    videos.append(df)\n",
    "\n",
    "videos = pd.concat(videos, ignore_index=True)"
   ]
  },
  {
   "cell_type": "code",
   "execution_count": null,
   "id": "fbc206ac-b951-41a4-9090-65bca39dc404",
   "metadata": {},
   "outputs": [],
   "source": []
  },
  {
   "cell_type": "code",
   "execution_count": null,
   "id": "76a6ea02-9484-46fd-8085-c61d7e48b6ac",
   "metadata": {},
   "outputs": [],
   "source": []
  },
  {
   "cell_type": "code",
   "execution_count": null,
   "id": "79a16efc-e99b-4b00-90be-f78101b9732e",
   "metadata": {},
   "outputs": [],
   "source": []
  },
  {
   "cell_type": "code",
   "execution_count": null,
   "id": "8240794d-546f-4d24-8791-1201c04b73b2",
   "metadata": {},
   "outputs": [],
   "source": []
  },
  {
   "cell_type": "code",
   "execution_count": null,
   "id": "b7a3b8d9-a2ec-4db2-b5de-20236e3b73c5",
   "metadata": {},
   "outputs": [],
   "source": []
  }
 ],
 "metadata": {
  "kernelspec": {
   "display_name": "Python 3",
   "language": "python",
   "name": "python3"
  },
  "language_info": {
   "codemirror_mode": {
    "name": "ipython",
    "version": 3
   },
   "file_extension": ".py",
   "mimetype": "text/x-python",
   "name": "python",
   "nbconvert_exporter": "python",
   "pygments_lexer": "ipython3",
   "version": "3.9.3"
  }
 },
 "nbformat": 4,
 "nbformat_minor": 5
}
