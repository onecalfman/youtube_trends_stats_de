{
 "cells": [
  {
   "cell_type": "code",
   "execution_count": 1,
   "id": "7042dac2-e5ac-4bc7-a532-56d9f1abc885",
   "metadata": {},
   "outputs": [],
   "source": [
    "import pandas as pd\n",
    "import os\n",
    "from apiclient.discovery import build\n",
    "\n",
    "api_key = '' #your key here\n",
    "\n",
    "youtube = build('youtube', 'v3', developerKey=api_key)\n",
    "\n",
    "y2k = pd.Timestamp(2000,1,1)\n",
    "\n",
    "def fetch_date(vid_id):\n",
    "    vid_snippet = youtube.videos().list(part='snippet', id=vid_id)\n",
    "    vid_snippet = vid_snippet.execute()\n",
    "    date =vid_snippet['items'][0]['snippet']['publishedAt']\n",
    "    return pd.to_datetime(date).tz_localize(None)"
   ]
  },
  {
   "cell_type": "code",
   "execution_count": 2,
   "id": "c925d8fe-6a5d-43b4-af42-094426ef8d0d",
   "metadata": {},
   "outputs": [],
   "source": [
    "directory = 'youtube_trends_stats_de/single_json/'\n",
    "files = os.listdir(directory)\n",
    "frames = []\n",
    "for file in files:\n",
    "    frames.append(pd.read_json(directory + file))\n",
    "    if not 'dataTakenAt' in frames[-1]:\n",
    "        frames[-1]['dataTakenAt'] = pd.to_datetime(file[:-5].replace('_',' '), utc='CEST').tz_localize(None)"
   ]
  },
  {
   "cell_type": "code",
   "execution_count": 3,
   "id": "bfdd9f21-42bd-4a42-bc1e-dd1252bb6e99",
   "metadata": {},
   "outputs": [],
   "source": [
    "for frame in frames:\n",
    "    if(frame.dataTakenAt.dtype == 'int64'):\n",
    "        frame.dataTakenAt = pd.to_datetime(frame.dataTakenAt, unit='ms')\n",
    "    if(frame.publishedAt.dtype == 'int64'):\n",
    "        frame.publishedAt = pd.to_datetime(frame.publishedAt, unit='ms')\n",
    "data = pd.concat(frames)\n",
    "data.publishedAt = data.publishedAt.map(lambda date : pd.to_datetime(date).tz_localize(None))\n",
    "data.dataTakenAt = data.dataTakenAt.map(lambda date : pd.to_datetime(date).tz_localize(None))\n",
    "ids = list(data.id.unique())\n",
    "grouped_by_id = data.groupby('id')"
   ]
  },
  {
   "cell_type": "code",
   "execution_count": 4,
   "id": "c1923927-2190-4daf-8c73-08abc12f6c30",
   "metadata": {},
   "outputs": [],
   "source": [
    "videos = []\n",
    "for id in ids:\n",
    "    vid = grouped_by_id.get_group(id).sort_values(by='dataTakenAt')\n",
    "    df = pd.DataFrame(vid.iloc[0]).transpose()\n",
    "    df['maxRank'] = vid['rank'].min()\n",
    "    df['minRank'] = vid['rank'].max()\n",
    "    df['meanRank'] = vid['rank'].mean()\n",
    "    \n",
    "    if vid.publishedAt.iloc[0] < y2k:\n",
    "        df.publishedAt = fetch_date(id)\n",
    "        \n",
    "    df['enteredTrends'] = vid.dataTakenAt.iloc[0]\n",
    "    df['leftTrends'] = vid.dataTakenAt.iloc[-1]\n",
    "    df['timeInTrends'] = df.leftTrends - df.enteredTrends\n",
    "    df['timeUntilTrending'] = df['enteredTrends'] - df.publishedAt\n",
    "    \n",
    "    df['maxViews'] = vid['viewCount'].max()\n",
    "    df['minViews'] = vid['viewCount'].min()\n",
    "    df['meanViews'] = round(vid['viewCount'].mean())\n",
    "    \n",
    "    df['maxLikes'] = vid['likeCount'].max()\n",
    "    df['minLikes'] = vid['likeCount'].min()\n",
    "    df['meanLikes'] = round(vid['likeCount'].mean())\n",
    "    \n",
    "    df['maxDislikes'] = vid['dislikeCount'].max()\n",
    "    df['minDislikes'] = vid['dislikeCount'].min()\n",
    "    df['meanDislikes'] = round(vid['dislikeCount'].mean())\n",
    "    \n",
    "    df['maxComments'] = vid['commentCount'].max()\n",
    "    df['minComments'] = vid['commentCount'].min()\n",
    "    df['meanComments'] = round(vid['commentCount'].mean())\n",
    "    videos.append(df)\n",
    "\n",
    "videos = pd.concat(videos, ignore_index=True).sort_values(by='publishedAt')"
   ]
  }
 ],
 "metadata": {
  "kernelspec": {
   "display_name": "Python 3",
   "language": "python",
   "name": "python3"
  },
  "language_info": {
   "codemirror_mode": {
    "name": "ipython",
    "version": 3
   },
   "file_extension": ".py",
   "mimetype": "text/x-python",
   "name": "python",
   "nbconvert_exporter": "python",
   "pygments_lexer": "ipython3",
   "version": "3.9.3"
  }
 },
 "nbformat": 4,
 "nbformat_minor": 5
}
